{
  "nbformat": 4,
  "nbformat_minor": 0,
  "metadata": {
    "colab": {
      "name": "trail_tx_rx_model.ipynb",
      "version": "0.3.2",
      "provenance": [],
      "include_colab_link": true
    },
    "kernelspec": {
      "name": "python3",
      "display_name": "Python 3"
    }
  },
  "cells": [
    {
      "cell_type": "markdown",
      "metadata": {
        "id": "view-in-github",
        "colab_type": "text"
      },
      "source": [
        "<a href=\"https://colab.research.google.com/github/Aithu-Snehith/End-to-End-Learning-of-Communications-Systems-Without-a-Channel-Model/blob/master/trail_tx_rx_model.ipynb\" target=\"_parent\"><img src=\"https://colab.research.google.com/assets/colab-badge.svg\" alt=\"Open In Colab\"/></a>"
      ]
    },
    {
      "cell_type": "code",
      "metadata": {
        "id": "YD6Q1OO06bA2",
        "colab_type": "code",
        "colab": {}
      },
      "source": [
        "import numpy as np\n",
        "import tensorflow as tf\n",
        "from tensorflow import keras\n",
        "import matplotlib.pyplot as plt\n",
        "from tensorflow import keras\n",
        "from tensorflow.keras.layers import *\n",
        "from sklearn import preprocessing"
      ],
      "execution_count": 0,
      "outputs": []
    },
    {
      "cell_type": "code",
      "metadata": {
        "id": "Mamp_sR48wBd",
        "colab_type": "code",
        "colab": {}
      },
      "source": [
        "msg_total = 8\n",
        "channel = 4\n",
        "epochs = 5000\n",
        "Noise_variance = 1e-4\n",
        "Pert_variance = 1e-4\n",
        "Batch_size = 1024"
      ],
      "execution_count": 0,
      "outputs": []
    },
    {
      "cell_type": "code",
      "metadata": {
        "id": "cUhpbsruIeoE",
        "colab_type": "code",
        "colab": {}
      },
      "source": [
        "def perturbation(d):\n",
        "    W = tf.keras.backend.random_normal(shape = (channel,2),\n",
        "    mean=0.0,stddev=Pert_variance**0.5,dtype=None,seed=None)\n",
        "    d = ((1-Pert_variance)**0.5)*d + W\n",
        "    return d"
      ],
      "execution_count": 0,
      "outputs": []
    },
    {
      "cell_type": "code",
      "metadata": {
        "id": "62RZYX6p-Q91",
        "colab_type": "code",
        "colab": {}
      },
      "source": [
        "tx_inp = Input((1,))\n",
        "embbedings_layer = Dense(msg_total, activation = 'relu')(tx_inp)\n",
        "layer_dense = Dense(2*channel, activation = 'relu')(embbedings_layer)\n",
        "to_complex = Reshape((channel,2))(layer_dense)\n",
        "x = Lambda(lambda x: keras.backend.l2_normalize(x))(to_complex)\n",
        "xp = keras.layers.Lambda(perturbation)(x)"
      ],
      "execution_count": 0,
      "outputs": []
    },
    {
      "cell_type": "code",
      "metadata": {
        "id": "_lQZAls4GVWG",
        "colab_type": "code",
        "colab": {
          "base_uri": "https://localhost:8080/",
          "height": 357
        },
        "outputId": "b3d97c15-9c4e-4401-9305-56c306e3b637"
      },
      "source": [
        "tx_model = keras.models.Model(inputs=tx_inp, outputs=[x,xp])\n",
        "print(tx_model.summary())"
      ],
      "execution_count": 27,
      "outputs": [
        {
          "output_type": "stream",
          "text": [
            "_________________________________________________________________\n",
            "Layer (type)                 Output Shape              Param #   \n",
            "=================================================================\n",
            "input_15 (InputLayer)        (None, 1)                 0         \n",
            "_________________________________________________________________\n",
            "dense_22 (Dense)             (None, 8)                 16        \n",
            "_________________________________________________________________\n",
            "dense_23 (Dense)             (None, 8)                 72        \n",
            "_________________________________________________________________\n",
            "reshape_11 (Reshape)         (None, 4, 2)              0         \n",
            "_________________________________________________________________\n",
            "lambda_15 (Lambda)           (None, 4, 2)              0         \n",
            "_________________________________________________________________\n",
            "lambda_16 (Lambda)           (None, 4, 2)              0         \n",
            "=================================================================\n",
            "Total params: 88\n",
            "Trainable params: 88\n",
            "Non-trainable params: 0\n",
            "_________________________________________________________________\n",
            "None\n"
          ],
          "name": "stdout"
        }
      ]
    },
    {
      "cell_type": "code",
      "metadata": {
        "id": "tdq7Oou4J1ZL",
        "colab_type": "code",
        "colab": {}
      },
      "source": [
        ""
      ],
      "execution_count": 0,
      "outputs": []
    }
  ]
}
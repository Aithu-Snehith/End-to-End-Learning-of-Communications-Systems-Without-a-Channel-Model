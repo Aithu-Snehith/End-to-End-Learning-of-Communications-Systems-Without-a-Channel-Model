{
  "nbformat": 4,
  "nbformat_minor": 0,
  "metadata": {
    "colab": {
      "name": "8_pam_model.ipynb",
      "version": "0.3.2",
      "provenance": [],
      "collapsed_sections": [],
      "include_colab_link": true
    },
    "kernelspec": {
      "name": "python3",
      "display_name": "Python 3"
    },
    "accelerator": "GPU"
  },
  "cells": [
    {
      "cell_type": "markdown",
      "metadata": {
        "id": "view-in-github",
        "colab_type": "text"
      },
      "source": [
        "<a href=\"https://colab.research.google.com/github/Aithu-Snehith/End-to-End-Learning-of-Communications-Systems-Without-a-Channel-Model/blob/master/8_pam_model.ipynb\" target=\"_parent\"><img src=\"https://colab.research.google.com/assets/colab-badge.svg\" alt=\"Open In Colab\"/></a>"
      ]
    },
    {
      "cell_type": "markdown",
      "metadata": {
        "id": "tkQuDDdaQAS0",
        "colab_type": "text"
      },
      "source": [
        "## Importing Libraries required for the implementation"
      ]
    },
    {
      "cell_type": "code",
      "metadata": {
        "id": "YD6Q1OO06bA2",
        "colab_type": "code",
        "colab": {}
      },
      "source": [
        "import numpy as np\n",
        "import tensorflow as tf\n",
        "from tensorflow import keras\n",
        "import matplotlib.pyplot as plt\n",
        "from tensorflow import keras\n",
        "from tensorflow.keras.layers import *\n",
        "from sklearn import preprocessing\n",
        "import tensorflow.keras.backend as K\n",
        "from sklearn.metrics import mean_squared_error\n",
        "from sklearn.metrics import accuracy_score"
      ],
      "execution_count": 0,
      "outputs": []
    },
    {
      "cell_type": "markdown",
      "metadata": {
        "id": "b3w26DLfQKIU",
        "colab_type": "text"
      },
      "source": [
        "## Hyper Parameters"
      ]
    },
    {
      "cell_type": "code",
      "metadata": {
        "id": "Mamp_sR48wBd",
        "colab_type": "code",
        "colab": {}
      },
      "source": [
        "#length of message space\n",
        "msg_total = 8\n",
        "# number of channels\n",
        "channel = 16\n",
        "# number of epochs\n",
        "epochs = 10000\n",
        "# peturbation variance\n",
        "sigma = 1e-4\n",
        "# Batch size\n",
        "batch_size = 1024"
      ],
      "execution_count": 0,
      "outputs": []
    },
    {
      "cell_type": "markdown",
      "metadata": {
        "id": "jaQMKgqwQUy3",
        "colab_type": "text"
      },
      "source": [
        "## Defining Required Functions"
      ]
    },
    {
      "cell_type": "code",
      "metadata": {
        "id": "cUhpbsruIeoE",
        "colab_type": "code",
        "colab": {}
      },
      "source": [
        "# Peturbation Sampling\n",
        "def perturbation(x):\n",
        "    w = K.random_normal(shape = (channel,2), mean=0.0,stddev=sigma**0.5,dtype=None)\n",
        "    xp = ((1-Pert_variance)**0.5)*x + w\n",
        "    return xp\n",
        "\n",
        "# Defining transmitter loss\n",
        "def loss_tx(y_true, y_pred):\n",
        "    return -y_true*y_pred\n",
        "\n",
        "# Defining the policy\n",
        "def get_policy(inp):\n",
        "    xp = inp[0]\n",
        "    x = inp[1]\n",
        "    w = xp - x\n",
        "    policy = -K.sum(w*w)\n",
        "    return policy"
      ],
      "execution_count": 0,
      "outputs": []
    },
    {
      "cell_type": "markdown",
      "metadata": {
        "id": "nyV3UMsbQZ2A",
        "colab_type": "text"
      },
      "source": [
        "# Transmitter Model\n",
        "\n",
        "##Defining Architecture"
      ]
    },
    {
      "cell_type": "code",
      "metadata": {
        "id": "62RZYX6p-Q91",
        "colab_type": "code",
        "outputId": "2eeaafb9-5221-4f23-e6dd-cf53981eb269",
        "colab": {
          "base_uri": "https://localhost:8080/",
          "height": 88
        }
      },
      "source": [
        "tx_inp = Input((1,))\n",
        "# Adding embedding layer\n",
        "embbedings_layer = Dense(msg_total, activation = 'relu')(tx_inp)\n",
        "layer_dense = Dense(2*channel, activation = 'relu')(embbedings_layer)\n",
        "# real to complex \n",
        "to_complex = Reshape((channel,2))(layer_dense)\n",
        "# Normalising the output to unit energy\n",
        "x = Lambda(lambda x: keras.backend.l2_normalize(x))(to_complex)\n",
        "# Peturbation sampling \n",
        "xp = Lambda(perturbation)(to_complex)\n",
        "policy = Lambda(get_policy)([xp,x])"
      ],
      "execution_count": 4,
      "outputs": [
        {
          "output_type": "stream",
          "text": [
            "WARNING:tensorflow:From /usr/local/lib/python3.6/dist-packages/tensorflow/python/ops/resource_variable_ops.py:435: colocate_with (from tensorflow.python.framework.ops) is deprecated and will be removed in a future version.\n",
            "Instructions for updating:\n",
            "Colocations handled automatically by placer.\n"
          ],
          "name": "stdout"
        }
      ]
    },
    {
      "cell_type": "markdown",
      "metadata": {
        "id": "KY_LiujYRGnW",
        "colab_type": "text"
      },
      "source": [
        "## Creating Required models ( outputs from required layers)"
      ]
    },
    {
      "cell_type": "code",
      "metadata": {
        "id": "tdq7Oou4J1ZL",
        "colab_type": "code",
        "outputId": "cb1dd314-902e-4477-dc8f-d9a3cb456ff8",
        "colab": {
          "base_uri": "https://localhost:8080/",
          "height": 408
        }
      },
      "source": [
        "# model for policy training\n",
        "model_policy = keras.models.Model(inputs=tx_inp, outputs=policy)\n",
        "# model to get the peturbatated output\n",
        "model_tx = keras.models.Model(inputs=tx_inp, outputs=xp)\n",
        "# model to get the encoded message to transmit\n",
        "model_x = keras.models.Model(inputs=tx_inp, outputs=x)\n",
        "\n",
        "model_policy.compile(loss=loss_tx, optimizer=tf.keras.optimizers.SGD(lr = 1e-5))\n",
        "print(model_policy.summary())"
      ],
      "execution_count": 5,
      "outputs": [
        {
          "output_type": "stream",
          "text": [
            "__________________________________________________________________________________________________\n",
            "Layer (type)                    Output Shape         Param #     Connected to                     \n",
            "==================================================================================================\n",
            "input_1 (InputLayer)            (None, 1)            0                                            \n",
            "__________________________________________________________________________________________________\n",
            "dense (Dense)                   (None, 8)            16          input_1[0][0]                    \n",
            "__________________________________________________________________________________________________\n",
            "dense_1 (Dense)                 (None, 32)           288         dense[0][0]                      \n",
            "__________________________________________________________________________________________________\n",
            "reshape (Reshape)               (None, 16, 2)        0           dense_1[0][0]                    \n",
            "__________________________________________________________________________________________________\n",
            "lambda_1 (Lambda)               (None, 16, 2)        0           reshape[0][0]                    \n",
            "__________________________________________________________________________________________________\n",
            "lambda (Lambda)                 (None, 16, 2)        0           reshape[0][0]                    \n",
            "__________________________________________________________________________________________________\n",
            "lambda_2 (Lambda)               ()                   0           lambda_1[0][0]                   \n",
            "                                                                 lambda[0][0]                     \n",
            "==================================================================================================\n",
            "Total params: 304\n",
            "Trainable params: 304\n",
            "Non-trainable params: 0\n",
            "__________________________________________________________________________________________________\n",
            "None\n"
          ],
          "name": "stdout"
        }
      ]
    },
    {
      "cell_type": "markdown",
      "metadata": {
        "id": "etyxVLIfRQCW",
        "colab_type": "text"
      },
      "source": [
        "# Receiver\n",
        "\n",
        "##Defining Architecture"
      ]
    },
    {
      "cell_type": "code",
      "metadata": {
        "id": "jPJKGpLLLqbo",
        "colab_type": "code",
        "outputId": "519e07be-841e-4789-e0cc-d28dcebf7187",
        "colab": {
          "base_uri": "https://localhost:8080/",
          "height": 289
        }
      },
      "source": [
        "rx_inp = Input((channel,2))\n",
        "# complex to real\n",
        "to_flat = Reshape((2*channel,))(rx_inp)\n",
        "fc = Dense(8*2*channel, activation = 'relu')(to_flat)\n",
        "softmax = Dense(msg_total, activation = 'softmax')(fc)\n",
        "\n",
        "model_rx = keras.models.Model(inputs=rx_inp, outputs=softmax)\n",
        "\n",
        "model_rx.compile(loss=tf.keras.losses.categorical_crossentropy, optimizer=tf.keras.optimizers.Adam())\n",
        "print(model_rx.summary())"
      ],
      "execution_count": 6,
      "outputs": [
        {
          "output_type": "stream",
          "text": [
            "_________________________________________________________________\n",
            "Layer (type)                 Output Shape              Param #   \n",
            "=================================================================\n",
            "input_2 (InputLayer)         (None, 16, 2)             0         \n",
            "_________________________________________________________________\n",
            "reshape_1 (Reshape)          (None, 32)                0         \n",
            "_________________________________________________________________\n",
            "dense_2 (Dense)              (None, 256)               8448      \n",
            "_________________________________________________________________\n",
            "dense_3 (Dense)              (None, 8)                 2056      \n",
            "=================================================================\n",
            "Total params: 10,504\n",
            "Trainable params: 10,504\n",
            "Non-trainable params: 0\n",
            "_________________________________________________________________\n",
            "None\n"
          ],
          "name": "stdout"
        }
      ]
    },
    {
      "cell_type": "markdown",
      "metadata": {
        "id": "g4DMGmXSUk_h",
        "colab_type": "text"
      },
      "source": [
        "## Alternative Training"
      ]
    },
    {
      "cell_type": "code",
      "metadata": {
        "id": "g6h-Vx6JpksG",
        "colab_type": "code",
        "outputId": "9e1879e2-b98f-4837-8fad-a02b6cfeba1a",
        "colab": {
          "base_uri": "https://localhost:8080/",
          "height": 1788
        }
      },
      "source": [
        "loss_tx = []\n",
        "loss_rx = []\n",
        "for epoch in range(epochs):\n",
        "#     trasmitter training\n",
        "#     generating input\n",
        "    raw_input = np.random.randint(0,msg_total,(batch_size))\n",
        "#     Generating labels\n",
        "    label = np.zeros((batch_size, msg_total))\n",
        "    label[np.arange(batch_size), raw_input] = 1\n",
        "    tx_input = raw_input/float(msg_total)\n",
        "#     Transmitter prediction ( message encoding )\n",
        "    xp = model_tx.predict(tx_input)\n",
        "#     Adding noise ( modelling AWGN layer)\n",
        "    y = xp + np.random.normal(0,0.001,(batch_size, channel,2))\n",
        "#     Decoding the message\n",
        "    pred = model_rx.predict(y)\n",
        "#     Getting loss\n",
        "    loss = np.sum(np.square(label - pred), axis = 1)\n",
        "#     Transmitter model training\n",
        "    history_tx = model_policy.fit(tx_input, loss, batch_size=batch_size, epochs=1, verbose=0)    \n",
        "    loss_tx.append(history_tx.history['loss'][0])\n",
        "    \n",
        "#     Receiver Training\n",
        "    raw_input = np.random.randint(0,msg_total,(batch_size))\n",
        "    label = np.zeros((batch_size, msg_total))\n",
        "    label[np.arange(batch_size), raw_input] = 1\n",
        "    tx_input = raw_input/float(msg_total)\n",
        "    x = model_x.predict(tx_input)\n",
        "    y = x + np.random.normal(0,0.001,(batch_size, channel,2))\n",
        "    history_rx = model_rx.fit(y, label, batch_size=batch_size, epochs=1, verbose=0)\n",
        "    loss_rx.append(history_rx.history['loss'][0])\n",
        "    \n",
        "#     Printing only after 100 epochs\n",
        "    if(epoch % 100 == 0):\n",
        "        print('epoch: ', epoch, 'tx_loss', history_tx.history['loss'][0], 'rx_loss', history_rx.history['loss'][0])"
      ],
      "execution_count": 7,
      "outputs": [
        {
          "output_type": "stream",
          "text": [
            "WARNING:tensorflow:From /usr/local/lib/python3.6/dist-packages/tensorflow/python/ops/math_ops.py:3066: to_int32 (from tensorflow.python.ops.math_ops) is deprecated and will be removed in a future version.\n",
            "Instructions for updating:\n",
            "Use tf.cast instead.\n",
            "epoch:  0 tx_loss 111.65034484863281 rx_loss 2.075446128845215\n",
            "epoch:  100 tx_loss 4.3518385887146 rx_loss 1.5956542491912842\n",
            "epoch:  200 tx_loss 3.1458160877227783 rx_loss 1.3446216583251953\n",
            "epoch:  300 tx_loss 2.183445930480957 rx_loss 1.0681068897247314\n",
            "epoch:  400 tx_loss 2.750500440597534 rx_loss 0.8244391679763794\n",
            "epoch:  500 tx_loss 3.4527690410614014 rx_loss 0.6615206003189087\n",
            "epoch:  600 tx_loss 3.9687094688415527 rx_loss 0.5484654307365417\n",
            "epoch:  700 tx_loss 4.75673246383667 rx_loss 0.44556933641433716\n",
            "epoch:  800 tx_loss 2.3664300441741943 rx_loss 0.4057242274284363\n",
            "epoch:  900 tx_loss 3.823850393295288 rx_loss 0.34978848695755005\n",
            "epoch:  1000 tx_loss 4.562586784362793 rx_loss 0.3229084312915802\n",
            "epoch:  1100 tx_loss 5.9120283126831055 rx_loss 0.2832150459289551\n",
            "epoch:  1200 tx_loss 3.35794734954834 rx_loss 0.2697519361972809\n",
            "epoch:  1300 tx_loss 2.7322275638580322 rx_loss 0.21645428240299225\n",
            "epoch:  1400 tx_loss 4.766214370727539 rx_loss 0.21287575364112854\n",
            "epoch:  1500 tx_loss 2.972025156021118 rx_loss 0.20674437284469604\n",
            "epoch:  1600 tx_loss 3.2371692657470703 rx_loss 0.1805959790945053\n",
            "epoch:  1700 tx_loss 3.3259565830230713 rx_loss 0.18627703189849854\n",
            "epoch:  1800 tx_loss 2.6115152835845947 rx_loss 0.15560747683048248\n",
            "epoch:  1900 tx_loss 4.833925247192383 rx_loss 0.13701024651527405\n",
            "epoch:  2000 tx_loss 2.7226548194885254 rx_loss 0.12894144654273987\n",
            "epoch:  2100 tx_loss 7.077600955963135 rx_loss 0.10896340012550354\n",
            "epoch:  2200 tx_loss 4.855541229248047 rx_loss 0.09421651065349579\n",
            "epoch:  2300 tx_loss 3.9910638332366943 rx_loss 0.10274013876914978\n",
            "epoch:  2400 tx_loss 3.944584369659424 rx_loss 0.05820135027170181\n",
            "epoch:  2500 tx_loss 4.085627555847168 rx_loss 0.06760348379611969\n",
            "epoch:  2600 tx_loss 4.186509132385254 rx_loss 0.043666109442710876\n",
            "epoch:  2700 tx_loss 4.096609592437744 rx_loss 0.039834339171648026\n",
            "epoch:  2800 tx_loss 3.936901807785034 rx_loss 0.04208402335643768\n",
            "epoch:  2900 tx_loss 3.0933609008789062 rx_loss 0.031584665179252625\n",
            "epoch:  3000 tx_loss 2.5114285945892334 rx_loss 0.03643415868282318\n",
            "epoch:  3100 tx_loss 3.968400716781616 rx_loss 0.03069741651415825\n",
            "epoch:  3200 tx_loss 4.790694713592529 rx_loss 0.039969541132450104\n",
            "epoch:  3300 tx_loss 5.108456611633301 rx_loss 0.03195992484688759\n",
            "epoch:  3400 tx_loss 5.536928176879883 rx_loss 0.027466170489788055\n",
            "epoch:  3500 tx_loss 5.189927577972412 rx_loss 0.023680424317717552\n",
            "epoch:  3600 tx_loss 5.032960414886475 rx_loss 0.019849564880132675\n",
            "epoch:  3700 tx_loss 5.154823303222656 rx_loss 0.01682446338236332\n",
            "epoch:  3800 tx_loss 6.82951021194458 rx_loss 0.017644288018345833\n",
            "epoch:  3900 tx_loss 6.10154914855957 rx_loss 0.013960335403680801\n",
            "epoch:  4000 tx_loss 6.852365493774414 rx_loss 0.015919698402285576\n",
            "epoch:  4100 tx_loss 4.90704345703125 rx_loss 0.015047567896544933\n",
            "epoch:  4200 tx_loss 5.894028663635254 rx_loss 0.010916702449321747\n",
            "epoch:  4300 tx_loss 3.0122227668762207 rx_loss 0.010609409771859646\n",
            "epoch:  4400 tx_loss 4.682041168212891 rx_loss 0.012999525293707848\n",
            "epoch:  4500 tx_loss 8.213058471679688 rx_loss 0.008963012136518955\n",
            "epoch:  4600 tx_loss 4.626161575317383 rx_loss 0.007602107245475054\n",
            "epoch:  4700 tx_loss 3.7452304363250732 rx_loss 0.007352523505687714\n",
            "epoch:  4800 tx_loss 6.248739242553711 rx_loss 0.0069618928246200085\n",
            "epoch:  4900 tx_loss 4.939318656921387 rx_loss 0.010771127417683601\n",
            "epoch:  5000 tx_loss 4.491368293762207 rx_loss 0.008541966788470745\n",
            "epoch:  5100 tx_loss 5.126115798950195 rx_loss 0.005239963997155428\n",
            "epoch:  5200 tx_loss 5.8089118003845215 rx_loss 0.004610837437212467\n",
            "epoch:  5300 tx_loss 2.4534215927124023 rx_loss 0.005705135874450207\n",
            "epoch:  5400 tx_loss 6.818317890167236 rx_loss 0.006106524262577295\n",
            "epoch:  5500 tx_loss 4.380892276763916 rx_loss 0.005216584540903568\n",
            "epoch:  5600 tx_loss 3.577620506286621 rx_loss 0.006254799664020538\n",
            "epoch:  5700 tx_loss 6.1088457107543945 rx_loss 0.002732411725446582\n",
            "epoch:  5800 tx_loss 7.872372627258301 rx_loss 0.006918097846210003\n",
            "epoch:  5900 tx_loss 5.95105504989624 rx_loss 0.0022812550887465477\n",
            "epoch:  6000 tx_loss 4.555535793304443 rx_loss 0.0022870583925396204\n",
            "epoch:  6100 tx_loss 4.640500068664551 rx_loss 0.010331875644624233\n",
            "epoch:  6200 tx_loss 3.6990368366241455 rx_loss 0.0021935012191534042\n",
            "epoch:  6300 tx_loss 4.898043155670166 rx_loss 0.0020838286727666855\n",
            "epoch:  6400 tx_loss 5.4040446281433105 rx_loss 0.0017388788983225822\n",
            "epoch:  6500 tx_loss 5.057991981506348 rx_loss 0.002344192937016487\n",
            "epoch:  6600 tx_loss 6.815639019012451 rx_loss 0.002434772439301014\n",
            "epoch:  6700 tx_loss 4.923605918884277 rx_loss 0.0021747329737991095\n",
            "epoch:  6800 tx_loss 4.367935657501221 rx_loss 0.001837260671891272\n",
            "epoch:  6900 tx_loss 5.003668785095215 rx_loss 0.0030599073506891727\n",
            "epoch:  7000 tx_loss 6.880077838897705 rx_loss 0.001666948664933443\n",
            "epoch:  7100 tx_loss 4.616969108581543 rx_loss 0.006662178318947554\n",
            "epoch:  7200 tx_loss 4.946462631225586 rx_loss 0.005256841890513897\n",
            "epoch:  7300 tx_loss 4.189868450164795 rx_loss 0.001434624777175486\n",
            "epoch:  7400 tx_loss 5.299427032470703 rx_loss 0.0010790545493364334\n",
            "epoch:  7500 tx_loss 2.579153299331665 rx_loss 0.0010170130990445614\n",
            "epoch:  7600 tx_loss 5.300052642822266 rx_loss 0.0006194217712618411\n",
            "epoch:  7700 tx_loss 3.060616970062256 rx_loss 0.001046905410476029\n",
            "epoch:  7800 tx_loss 3.76302433013916 rx_loss 0.0010550954611971974\n",
            "epoch:  7900 tx_loss 4.558821201324463 rx_loss 0.000819277367554605\n",
            "epoch:  8000 tx_loss 2.506747245788574 rx_loss 0.0001316565030720085\n",
            "epoch:  8100 tx_loss 5.678400039672852 rx_loss 0.0002782098308671266\n",
            "epoch:  8200 tx_loss 4.359503269195557 rx_loss 0.0002059138787444681\n",
            "epoch:  8300 tx_loss 3.469759702682495 rx_loss 0.0005165160982869565\n",
            "epoch:  8400 tx_loss 4.149544715881348 rx_loss 0.0011060985270887613\n",
            "epoch:  8500 tx_loss 4.888036251068115 rx_loss 0.005483447108417749\n",
            "epoch:  8600 tx_loss 5.130725860595703 rx_loss 0.00027724370011128485\n",
            "epoch:  8700 tx_loss 3.6243844032287598 rx_loss 0.0018223000224679708\n",
            "epoch:  8800 tx_loss 5.096489429473877 rx_loss 0.0002794914471451193\n",
            "epoch:  8900 tx_loss 4.828254222869873 rx_loss 0.0002615988196339458\n",
            "epoch:  9000 tx_loss 4.805609703063965 rx_loss 0.0010482058860361576\n",
            "epoch:  9100 tx_loss 3.2759108543395996 rx_loss 0.0007440315675921738\n",
            "epoch:  9200 tx_loss 7.272687911987305 rx_loss 0.0002482463023625314\n",
            "epoch:  9300 tx_loss 3.771700143814087 rx_loss 0.0002673517738003284\n",
            "epoch:  9400 tx_loss 4.501392364501953 rx_loss 0.00035931519232690334\n",
            "epoch:  9500 tx_loss 6.863140106201172 rx_loss 0.00046710309106856585\n",
            "epoch:  9600 tx_loss 5.743268966674805 rx_loss 0.0016094766324386\n",
            "epoch:  9700 tx_loss 4.276912689208984 rx_loss 0.00021542655304074287\n",
            "epoch:  9800 tx_loss 5.513436794281006 rx_loss 0.00012897647684440017\n",
            "epoch:  9900 tx_loss 4.092998027801514 rx_loss 0.00040719134267419577\n"
          ],
          "name": "stdout"
        }
      ]
    },
    {
      "cell_type": "markdown",
      "metadata": {
        "id": "qEj8LifcVAPQ",
        "colab_type": "text"
      },
      "source": [
        "## Plotting the Transmitter and Receiver Loss"
      ]
    },
    {
      "cell_type": "code",
      "metadata": {
        "id": "YOax3T0THnrF",
        "colab_type": "code",
        "outputId": "b69bfb7e-4727-4fe9-96a8-500f6a3d1258",
        "colab": {
          "base_uri": "https://localhost:8080/",
          "height": 350
        }
      },
      "source": [
        "plt.figure(figsize = (12,5))\n",
        "plt.subplot(1,2,1)\n",
        "plt.plot(loss_tx)\n",
        "plt.title('Transmitter Loss')\n",
        "plt.xlabel('epochs')\n",
        "plt.ylabel('loss')\n",
        "plt.subplot(1,2,2)\n",
        "plt.plot(loss_rx)\n",
        "plt.title('Receiver Loss')\n",
        "plt.xlabel('epochs')\n",
        "plt.ylabel('loss')\n",
        "plt.show()"
      ],
      "execution_count": 8,
      "outputs": [
        {
          "output_type": "display_data",
          "data": {
            "image/png": "[encoded data removed]",
            "text/plain": [
              "<Figure size 864x360 with 2 Axes>"
            ]
          },
          "metadata": {
            "tags": []
          }
        }
      ]
    },
    {
      "cell_type": "markdown",
      "metadata": {
        "id": "jvaDNhLiVbIJ",
        "colab_type": "text"
      },
      "source": [
        "## Prediction"
      ]
    },
    {
      "cell_type": "code",
      "metadata": {
        "id": "Ob52RzJevSF2",
        "colab_type": "code",
        "outputId": "9156e028-2deb-4d31-c84f-8ef6747b0562",
        "colab": {
          "base_uri": "https://localhost:8080/",
          "height": 136
        }
      },
      "source": [
        "#testing\n",
        "batch_size = 100\n",
        "raw_input = np.random.randint(0,msg_total,(batch_size))\n",
        "print('Transmitter Signal:',raw_input)\n",
        "label = np.zeros((batch_size, msg_total))\n",
        "label[np.arange(batch_size), raw_input] = 1\n",
        "tx_input = raw_input/float(msg_total)\n",
        "xp = model_x.predict(tx_input)\n",
        "y = xp + np.random.normal(0,0.001,(batch_size, channel,2))\n",
        "pred = model_rx.predict(y)\n",
        "pred_int = np.argmax(pred, axis = 1)\n",
        "print('Receiver Signal:',pred_int)\n",
        "\n",
        "\n",
        "print('accuracy:',accuracy_score(raw_input, pred_int))"
      ],
      "execution_count": 9,
      "outputs": [
        {
          "output_type": "stream",
          "text": [
            "Transmitter Signal: [7 0 0 6 6 4 6 5 6 4 5 0 3 7 3 6 0 0 6 3 6 6 2 4 0 1 5 0 4 2 7 0 4 7 1 7 1\n",
            " 7 7 5 5 7 4 4 0 1 3 3 6 4 0 0 6 6 5 6 5 3 1 0 0 7 5 3 1 4 4 6 2 5 1 4 5 6\n",
            " 3 4 2 7 2 7 2 6 0 2 5 0 3 0 5 7 2 0 2 3 6 6 3 0 7 3]\n",
            "Receiver Signal: [7 0 0 6 6 4 6 5 6 4 5 0 3 7 3 6 0 0 6 3 6 6 2 4 0 1 5 0 4 2 7 0 4 7 1 7 1\n",
            " 7 7 5 5 7 4 4 0 1 3 3 6 4 0 0 6 6 5 6 5 3 1 0 0 7 5 3 1 4 4 6 2 5 1 4 5 6\n",
            " 3 4 2 7 2 7 2 6 0 2 5 0 3 0 5 7 2 0 2 3 6 6 3 0 7 3]\n",
            "accuracy: 1.0\n"
          ],
          "name": "stdout"
        }
      ]
    },
    {
      "cell_type": "code",
      "metadata": {
        "id": "v0SWR8noCoc6",
        "colab_type": "code",
        "colab": {}
      },
      "source": [
        ""
      ],
      "execution_count": 0,
      "outputs": []
    }
  ]
}
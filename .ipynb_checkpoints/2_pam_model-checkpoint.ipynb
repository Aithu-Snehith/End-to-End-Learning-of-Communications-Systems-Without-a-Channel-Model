{
 "cells": [
  {
   "cell_type": "markdown",
   "metadata": {
    "colab_type": "text",
    "id": "view-in-github"
   },
   "source": [
    "<a href=\"https://colab.research.google.com/github/Aithu-Snehith/End-to-End-Learning-of-Communications-Systems-Without-a-Channel-Model/blob/master/2_pam_model.ipynb\" target=\"_parent\"><img src=\"https://colab.research.google.com/assets/colab-badge.svg\" alt=\"Open In Colab\"/></a>"
   ]
  },
  {
   "cell_type": "markdown",
   "metadata": {
    "colab_type": "text",
    "id": "iw733J8hoIZN"
   },
   "source": [
    "## Importing Required Packages"
   ]
  },
  {
   "cell_type": "code",
   "execution_count": 0,
   "metadata": {
    "colab": {},
    "colab_type": "code",
    "id": "YD6Q1OO06bA2"
   },
   "outputs": [],
   "source": [
    "import numpy as np\n",
    "import tensorflow as tf\n",
    "from tensorflow import keras\n",
    "import matplotlib.pyplot as plt\n",
    "from tensorflow import keras\n",
    "from tensorflow.keras.layers import *\n",
    "from sklearn import preprocessing\n",
    "import tensorflow.keras.backend as K\n",
    "from sklearn.metrics import mean_squared_error"
   ]
  },
  {
   "cell_type": "markdown",
   "metadata": {
    "colab_type": "text",
    "id": "0l6o6_eHoMPO"
   },
   "source": [
    "## Hyper Parameters"
   ]
  },
  {
   "cell_type": "code",
   "execution_count": 0,
   "metadata": {
    "colab": {},
    "colab_type": "code",
    "id": "Mamp_sR48wBd"
   },
   "outputs": [],
   "source": [
    "msg_total = 2\n",
    "channel = 4\n",
    "epochs = 5000\n",
    "sigma = 1e-4\n",
    "batch_size = 1024"
   ]
  },
  {
   "cell_type": "markdown",
   "metadata": {
    "colab_type": "text",
    "id": "4fcMrH6IoP9t"
   },
   "source": [
    "## Defiing required functions"
   ]
  },
  {
   "cell_type": "code",
   "execution_count": 0,
   "metadata": {
    "colab": {},
    "colab_type": "code",
    "id": "cUhpbsruIeoE"
   },
   "outputs": [],
   "source": [
    "def perturbation(x):\n",
    "    w = K.random_normal(shape = (channel,2), mean=0.0,stddev=sigma**0.5,dtype=None)\n",
    "    xp = ((1-sigma)**0.5)*x + w\n",
    "    return xp\n",
    "\n",
    "def loss_tx(y_true, y_pred):\n",
    "    return -y_true*y_pred\n",
    "\n",
    "def get_policy(inp):\n",
    "    xp = inp[0]\n",
    "    x = inp[1]\n",
    "    w = xp - x\n",
    "    policy = -K.sum(w*w)\n",
    "    return policy"
   ]
  },
  {
   "cell_type": "markdown",
   "metadata": {
    "colab_type": "text",
    "id": "5EBpvCvvoTeX"
   },
   "source": [
    "# Transmitter \n",
    "\n",
    "## Defining Architecture"
   ]
  },
  {
   "cell_type": "code",
   "execution_count": 0,
   "metadata": {
    "colab": {
     "base_uri": "https://localhost:8080/",
     "height": 88
    },
    "colab_type": "code",
    "id": "62RZYX6p-Q91",
    "outputId": "27e95718-a3a4-4a20-afcf-8c956a4831b2"
   },
   "outputs": [
    {
     "name": "stdout",
     "output_type": "stream",
     "text": [
      "WARNING:tensorflow:From /usr/local/lib/python3.6/dist-packages/tensorflow/python/ops/resource_variable_ops.py:435: colocate_with (from tensorflow.python.framework.ops) is deprecated and will be removed in a future version.\n",
      "Instructions for updating:\n",
      "Colocations handled automatically by placer.\n"
     ]
    }
   ],
   "source": [
    "tx_inp = Input((1,))\n",
    "embbedings_layer = Dense(msg_total, activation = 'relu')(tx_inp)\n",
    "layer_dense = Dense(2*channel, activation = 'relu')(embbedings_layer)\n",
    "to_complex = Reshape((channel,2))(layer_dense)\n",
    "x = Lambda(lambda x: keras.backend.l2_normalize(x))(to_complex)\n",
    "xp = Lambda(perturbation)(to_complex)\n",
    "policy = Lambda(get_policy)([xp,x])"
   ]
  },
  {
   "cell_type": "markdown",
   "metadata": {
    "colab_type": "text",
    "id": "RVB6NOrCoZHG"
   },
   "source": [
    "## Declaring Models"
   ]
  },
  {
   "cell_type": "code",
   "execution_count": 0,
   "metadata": {
    "colab": {
     "base_uri": "https://localhost:8080/",
     "height": 408
    },
    "colab_type": "code",
    "id": "tdq7Oou4J1ZL",
    "outputId": "89e684af-fad9-4aa7-c2dc-9439b9ffe180"
   },
   "outputs": [
    {
     "name": "stdout",
     "output_type": "stream",
     "text": [
      "__________________________________________________________________________________________________\n",
      "Layer (type)                    Output Shape         Param #     Connected to                     \n",
      "==================================================================================================\n",
      "input_1 (InputLayer)            (None, 1)            0                                            \n",
      "__________________________________________________________________________________________________\n",
      "dense (Dense)                   (None, 2)            4           input_1[0][0]                    \n",
      "__________________________________________________________________________________________________\n",
      "dense_1 (Dense)                 (None, 8)            24          dense[0][0]                      \n",
      "__________________________________________________________________________________________________\n",
      "reshape (Reshape)               (None, 4, 2)         0           dense_1[0][0]                    \n",
      "__________________________________________________________________________________________________\n",
      "lambda_1 (Lambda)               (None, 4, 2)         0           reshape[0][0]                    \n",
      "__________________________________________________________________________________________________\n",
      "lambda (Lambda)                 (None, 4, 2)         0           reshape[0][0]                    \n",
      "__________________________________________________________________________________________________\n",
      "lambda_2 (Lambda)               ()                   0           lambda_1[0][0]                   \n",
      "                                                                 lambda[0][0]                     \n",
      "==================================================================================================\n",
      "Total params: 28\n",
      "Trainable params: 28\n",
      "Non-trainable params: 0\n",
      "__________________________________________________________________________________________________\n",
      "None\n"
     ]
    }
   ],
   "source": [
    "model_policy = keras.models.Model(inputs=tx_inp, outputs=policy)\n",
    "model_tx = keras.models.Model(inputs=tx_inp, outputs=xp)\n",
    "model_x = keras.models.Model(inputs=tx_inp, outputs=x)\n",
    "\n",
    "model_policy.compile(loss=loss_tx, optimizer=tf.keras.optimizers.SGD(lr = 1e-5))\n",
    "print(model_policy.summary())"
   ]
  },
  {
   "cell_type": "markdown",
   "metadata": {
    "colab_type": "text",
    "id": "BL2rg2ODob7G"
   },
   "source": [
    "# Receiver\n",
    "\n",
    "## Defining Architecture"
   ]
  },
  {
   "cell_type": "code",
   "execution_count": 0,
   "metadata": {
    "colab": {
     "base_uri": "https://localhost:8080/",
     "height": 289
    },
    "colab_type": "code",
    "id": "jPJKGpLLLqbo",
    "outputId": "f29679e4-cbce-4538-f71c-255e010c600e"
   },
   "outputs": [
    {
     "name": "stdout",
     "output_type": "stream",
     "text": [
      "_________________________________________________________________\n",
      "Layer (type)                 Output Shape              Param #   \n",
      "=================================================================\n",
      "input_2 (InputLayer)         (None, 4, 2)              0         \n",
      "_________________________________________________________________\n",
      "reshape_1 (Reshape)          (None, 8)                 0         \n",
      "_________________________________________________________________\n",
      "dense_2 (Dense)              (None, 40)                360       \n",
      "_________________________________________________________________\n",
      "dense_3 (Dense)              (None, 2)                 82        \n",
      "=================================================================\n",
      "Total params: 442\n",
      "Trainable params: 442\n",
      "Non-trainable params: 0\n",
      "_________________________________________________________________\n",
      "None\n"
     ]
    }
   ],
   "source": [
    "rx_inp = Input((channel,2))\n",
    "to_flat = Reshape((2*channel,))(rx_inp)\n",
    "fc = Dense(5*2*channel, activation = 'relu')(to_flat)\n",
    "softmax = Dense(msg_total, activation = 'softmax')(fc)\n",
    "\n",
    "model_rx = keras.models.Model(inputs=rx_inp, outputs=softmax)\n",
    "\n",
    "model_rx.compile(loss=tf.keras.losses.categorical_crossentropy, optimizer=tf.keras.optimizers.Adam())\n",
    "print(model_rx.summary())"
   ]
  },
  {
   "cell_type": "markdown",
   "metadata": {
    "colab_type": "text",
    "id": "xP7QACNwogGC"
   },
   "source": [
    "## Alternative Training"
   ]
  },
  {
   "cell_type": "code",
   "execution_count": 0,
   "metadata": {
    "colab": {
     "base_uri": "https://localhost:8080/",
     "height": 938
    },
    "colab_type": "code",
    "id": "g6h-Vx6JpksG",
    "outputId": "8594d015-b5aa-497f-dfdf-49aa46c21e65"
   },
   "outputs": [
    {
     "name": "stdout",
     "output_type": "stream",
     "text": [
      "WARNING:tensorflow:From /usr/local/lib/python3.6/dist-packages/tensorflow/python/ops/math_ops.py:3066: to_int32 (from tensorflow.python.ops.math_ops) is deprecated and will be removed in a future version.\n",
      "Instructions for updating:\n",
      "Use tf.cast instead.\n",
      "epoch:  0 tx_loss 6.355036735534668 rx_loss 0.7242905497550964\n",
      "epoch:  100 tx_loss 1.8137860298156738 rx_loss 0.5351258516311646\n",
      "epoch:  200 tx_loss 0.8131426572799683 rx_loss 0.31978639960289\n",
      "epoch:  300 tx_loss 0.4941194951534271 rx_loss 0.1713171899318695\n",
      "epoch:  400 tx_loss 0.3641790747642517 rx_loss 0.09444549679756165\n",
      "epoch:  500 tx_loss 0.7153945565223694 rx_loss 0.054864201694726944\n",
      "epoch:  600 tx_loss 0.4647824764251709 rx_loss 0.04075027257204056\n",
      "epoch:  700 tx_loss 0.4751901626586914 rx_loss 0.025828994810581207\n",
      "epoch:  800 tx_loss 0.5345849990844727 rx_loss 0.02043948322534561\n",
      "epoch:  900 tx_loss 0.3673986792564392 rx_loss 0.014428166672587395\n",
      "epoch:  1000 tx_loss 0.3670782148838043 rx_loss 0.011922061443328857\n",
      "epoch:  1100 tx_loss 0.9511679410934448 rx_loss 0.00840630941092968\n",
      "epoch:  1200 tx_loss 0.6923137903213501 rx_loss 0.007425171323120594\n",
      "epoch:  1300 tx_loss 0.741775393486023 rx_loss 0.00629937369376421\n",
      "epoch:  1400 tx_loss 0.9444401860237122 rx_loss 0.005360973533242941\n",
      "epoch:  1500 tx_loss 1.7412992715835571 rx_loss 0.004391422029584646\n",
      "epoch:  1600 tx_loss 0.6625553369522095 rx_loss 0.00392648670822382\n",
      "epoch:  1700 tx_loss 0.8560501933097839 rx_loss 0.0038145408034324646\n",
      "epoch:  1800 tx_loss 0.7468227744102478 rx_loss 0.0030808132141828537\n",
      "epoch:  1900 tx_loss 0.7250442504882812 rx_loss 0.002631203504279256\n",
      "epoch:  2000 tx_loss 0.528317928314209 rx_loss 0.002227142918854952\n",
      "epoch:  2100 tx_loss 0.42298823595046997 rx_loss 0.0019248031312599778\n",
      "epoch:  2200 tx_loss 0.3724147081375122 rx_loss 0.0018200164195150137\n",
      "epoch:  2300 tx_loss 0.598807692527771 rx_loss 0.0014720705803483725\n",
      "epoch:  2400 tx_loss 0.570252537727356 rx_loss 0.0015578294405713677\n",
      "epoch:  2500 tx_loss 1.3871800899505615 rx_loss 0.0013590501621365547\n",
      "epoch:  2600 tx_loss 0.4627700746059418 rx_loss 0.001310709398239851\n",
      "epoch:  2700 tx_loss 1.3259549140930176 rx_loss 0.001097007654607296\n",
      "epoch:  2800 tx_loss 1.886702537536621 rx_loss 0.0010604213457554579\n",
      "epoch:  2900 tx_loss 1.357552409172058 rx_loss 0.0008800771902315319\n",
      "epoch:  3000 tx_loss 0.5879579782485962 rx_loss 0.0009826362365856767\n",
      "epoch:  3100 tx_loss 1.249929666519165 rx_loss 0.0008248339290730655\n",
      "epoch:  3200 tx_loss 0.49422529339790344 rx_loss 0.0007180306711234152\n",
      "epoch:  3300 tx_loss 0.7422264814376831 rx_loss 0.0005964445881545544\n",
      "epoch:  3400 tx_loss 1.3139021396636963 rx_loss 0.0006083508487790823\n",
      "epoch:  3500 tx_loss 0.5861632823944092 rx_loss 0.0004838921595364809\n",
      "epoch:  3600 tx_loss 0.1856534779071808 rx_loss 0.0006139599718153477\n",
      "epoch:  3700 tx_loss 0.494204044342041 rx_loss 0.00048443354899063706\n",
      "epoch:  3800 tx_loss 0.6790932416915894 rx_loss 0.0004982298123650253\n",
      "epoch:  3900 tx_loss 0.8209909200668335 rx_loss 0.0003675811749417335\n",
      "epoch:  4000 tx_loss 0.7746607065200806 rx_loss 0.00046498404117301106\n",
      "epoch:  4100 tx_loss 0.8726150989532471 rx_loss 0.00035181891871616244\n",
      "epoch:  4200 tx_loss 0.4192732572555542 rx_loss 0.0003383115981705487\n",
      "epoch:  4300 tx_loss 1.2453705072402954 rx_loss 0.0003893995308317244\n",
      "epoch:  4400 tx_loss 1.0274486541748047 rx_loss 0.0003541375626809895\n",
      "epoch:  4500 tx_loss 0.4736355245113373 rx_loss 0.00022588712454307824\n",
      "epoch:  4600 tx_loss 0.7548935413360596 rx_loss 0.0003139497130177915\n",
      "epoch:  4700 tx_loss 0.8765056133270264 rx_loss 0.0002393309841863811\n",
      "epoch:  4800 tx_loss 0.9064711332321167 rx_loss 0.00023339706240221858\n",
      "epoch:  4900 tx_loss 0.5094815492630005 rx_loss 0.00019088402041234076\n"
     ]
    }
   ],
   "source": [
    "loss_tx = []\n",
    "loss_rx = []\n",
    "for epoch in range(epochs):\n",
    "#     Transmitter training\n",
    "    raw_input = np.random.randint(0,msg_total,(batch_size))\n",
    "    label = np.zeros((batch_size, msg_total))\n",
    "    label[np.arange(batch_size), raw_input] = 1\n",
    "    tx_input = raw_input/float(msg_total)\n",
    "    xp = model_tx.predict(tx_input)\n",
    "    y = xp + np.random.normal(0,0.001,(batch_size, channel,2))\n",
    "    pred = model_rx.predict(y)\n",
    "    loss = np.sum(np.square(label - pred), axis = 1)\n",
    "    history_tx = model_policy.fit(tx_input, loss, batch_size=batch_size, epochs=1, verbose=0)    \n",
    "    loss_tx.append(history_tx.history['loss'][0])\n",
    "    \n",
    "#     Receiver Training\n",
    "    raw_input = np.random.randint(0,msg_total,(batch_size))\n",
    "    label = np.zeros((batch_size, msg_total))\n",
    "    label[np.arange(batch_size), raw_input] = 1\n",
    "    tx_input = raw_input/float(msg_total)\n",
    "    x = model_x.predict(tx_input)\n",
    "    y = x + np.random.normal(0,0.001,(batch_size, channel,2))\n",
    "    history_rx = model_rx.fit(y, label, batch_size=batch_size, epochs=1, verbose=0)\n",
    "    loss_rx.append(history_rx.history['loss'][0])\n",
    "    \n",
    "    if(epoch % 100 == 0):\n",
    "        print('epoch: ', epoch, 'tx_loss', history_tx.history['loss'][0], 'rx_loss', history_rx.history['loss'][0])"
   ]
  },
  {
   "cell_type": "markdown",
   "metadata": {
    "colab_type": "text",
    "id": "-r0lcWXhor_o"
   },
   "source": [
    "## Plotting Transmitter and Receiver Losses"
   ]
  },
  {
   "cell_type": "code",
   "execution_count": 0,
   "metadata": {
    "colab": {
     "base_uri": "https://localhost:8080/",
     "height": 350
    },
    "colab_type": "code",
    "id": "YOax3T0THnrF",
    "outputId": "ed96b1ce-1dcd-4495-c0de-02bb11b959db"
   },
   "outputs": [
    {
     "data": {
      "image/png": "[encoded data removed]",
      "text/plain": [
       "<Figure size 864x360 with 2 Axes>"
      ]
     },
     "metadata": {
      "tags": []
     },
     "output_type": "display_data"
    }
   ],
   "source": [
    "plt.figure(figsize = (12,5))\n",
    "plt.subplot(1,2,1)\n",
    "plt.plot(loss_tx)\n",
    "plt.title('Transmitter Loss')\n",
    "plt.xlabel('epochs')\n",
    "plt.ylabel('loss')\n",
    "plt.subplot(1,2,2)\n",
    "plt.plot(loss_rx)\n",
    "plt.title('Receiver Loss')\n",
    "plt.xlabel('epochs')\n",
    "plt.ylabel('loss')\n",
    "plt.show()"
   ]
  },
  {
   "cell_type": "markdown",
   "metadata": {
    "colab_type": "text",
    "id": "bJKYMpkFpD6K"
   },
   "source": [
    "## Prediction"
   ]
  },
  {
   "cell_type": "code",
   "execution_count": 0,
   "metadata": {
    "colab": {
     "base_uri": "https://localhost:8080/",
     "height": 136
    },
    "colab_type": "code",
    "id": "Ob52RzJevSF2",
    "outputId": "e9ebfe7c-daaf-4556-cda6-a6d6e608eecf"
   },
   "outputs": [
    {
     "name": "stdout",
     "output_type": "stream",
     "text": [
      "[1 0 1 0 1 1 1 1 1 1 0 0 0 1 1 0 0 1 0 1 1 0 0 0 1 0 0 1 0 0 0 0 0 0 1 0 0\n",
      " 0 0 1 0 0 1 0 0 0 0 0 1 1 1 1 0 1 1 0 0 1 1 0 0 1 1 0 1 0 1 1 0 1 1 0 0 0\n",
      " 0 1 0 0 1 1 1 0 1 0 0 1 1 0 0 0 0 1 0 0 0 1 0 1 0 1]\n",
      "[1 0 1 0 1 1 1 1 1 1 0 0 0 1 1 0 0 1 0 1 1 0 0 0 1 0 0 1 0 0 0 0 0 0 1 0 0\n",
      " 0 0 1 0 0 1 0 0 0 0 0 1 1 1 1 0 1 1 0 0 1 1 0 0 1 1 0 1 0 1 1 0 1 1 0 0 0\n",
      " 0 1 0 0 1 1 1 0 1 0 0 1 1 0 0 0 0 1 0 0 0 1 0 1 0 1]\n",
      "accuracy: 1.0\n"
     ]
    }
   ],
   "source": [
    "#testing\n",
    "batch_size = 100\n",
    "raw_input = np.random.randint(0,msg_total,(batch_size))\n",
    "print(raw_input)\n",
    "label = np.zeros((batch_size, msg_total))\n",
    "label[np.arange(batch_size), raw_input] = 1\n",
    "tx_input = raw_input/float(msg_total)\n",
    "xp = model_x.predict(tx_input)\n",
    "y = xp + np.random.normal(0,0.001,(batch_size, channel,2))\n",
    "pred = model_rx.predict(y)\n",
    "pred_int = np.argmax(pred, axis = 1)\n",
    "print(pred_int)\n",
    "\n",
    "from sklearn.metrics import accuracy_score\n",
    "\n",
    "print('accuracy:',accuracy_score(raw_input, pred_int))"
   ]
  },
  {
   "cell_type": "code",
   "execution_count": 0,
   "metadata": {
    "colab": {},
    "colab_type": "code",
    "id": "v0SWR8noCoc6"
   },
   "outputs": [],
   "source": []
  }
 ],
 "metadata": {
  "colab": {
   "collapsed_sections": [],
   "include_colab_link": true,
   "name": "2_pam_model.ipynb",
   "provenance": [],
   "version": "0.3.2"
  },
  "kernelspec": {
   "display_name": "Python 3",
   "language": "python",
   "name": "python3"
  },
  "language_info": {
   "codemirror_mode": {
    "name": "ipython",
    "version": 3
   },
   "file_extension": ".py",
   "mimetype": "text/x-python",
   "name": "python",
   "nbconvert_exporter": "python",
   "pygments_lexer": "ipython3",
   "version": "3.5.2"
  }
 },
 "nbformat": 4,
 "nbformat_minor": 1
}

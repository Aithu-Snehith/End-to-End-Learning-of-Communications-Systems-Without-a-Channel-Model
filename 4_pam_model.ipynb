{
  "nbformat": 4,
  "nbformat_minor": 0,
  "metadata": {
    "colab": {
      "name": "4_pam_model.ipynb",
      "version": "0.3.2",
      "provenance": [],
      "collapsed_sections": [],
      "include_colab_link": true
    },
    "kernelspec": {
      "name": "python3",
      "display_name": "Python 3"
    },
    "accelerator": "GPU"
  },
  "cells": [
    {
      "cell_type": "markdown",
      "metadata": {
        "id": "view-in-github",
        "colab_type": "text"
      },
      "source": [
        "<a href=\"https://colab.research.google.com/github/Aithu-Snehith/End-to-End-Learning-of-Communications-Systems-Without-a-Channel-Model/blob/master/4_pam_model.ipynb\" target=\"_parent\"><img src=\"https://colab.research.google.com/assets/colab-badge.svg\" alt=\"Open In Colab\"/></a>"
      ]
    },
    {
      "cell_type": "code",
      "metadata": {
        "id": "YD6Q1OO06bA2",
        "colab_type": "code",
        "colab": {}
      },
      "source": [
        "import numpy as np\n",
        "import tensorflow as tf\n",
        "from tensorflow import keras\n",
        "import matplotlib.pyplot as plt\n",
        "from tensorflow import keras\n",
        "from tensorflow.keras.layers import *\n",
        "from sklearn import preprocessing\n",
        "import tensorflow.keras.backend as K\n",
        "from sklearn.metrics import mean_squared_error"
      ],
      "execution_count": 0,
      "outputs": []
    },
    {
      "cell_type": "code",
      "metadata": {
        "id": "Mamp_sR48wBd",
        "colab_type": "code",
        "colab": {}
      },
      "source": [
        "msg_total = 4\n",
        "channel = 4\n",
        "epochs = 5000\n",
        "Pert_variance = 1e-4\n",
        "batch_size = 1024"
      ],
      "execution_count": 0,
      "outputs": []
    },
    {
      "cell_type": "code",
      "metadata": {
        "id": "cUhpbsruIeoE",
        "colab_type": "code",
        "colab": {}
      },
      "source": [
        "def perturbation(x):\n",
        "    w = K.random_normal(shape = (channel,2),\n",
        "    mean=0.0,stddev=Pert_variance**0.5,dtype=None,seed=None)\n",
        "    xp = ((1-Pert_variance)**0.5)*x + w\n",
        "    return xp\n",
        "\n",
        "def loss_tx(y_true, y_pred):\n",
        "    return -y_true*y_pred\n",
        "\n",
        "def get_policy(inp):\n",
        "    xp = inp[0]\n",
        "    x = inp[1]\n",
        "#     w = xp - ((1-Pert_variance)**0.5)*x\n",
        "    w = xp - x\n",
        "    policy = -K.sum(w*w)\n",
        "    return policy"
      ],
      "execution_count": 0,
      "outputs": []
    },
    {
      "cell_type": "code",
      "metadata": {
        "id": "62RZYX6p-Q91",
        "colab_type": "code",
        "outputId": "e69ec5f6-f9f2-4349-a4d5-202de74d8a0d",
        "colab": {
          "base_uri": "https://localhost:8080/",
          "height": 88
        }
      },
      "source": [
        "tx_inp = Input((1,))\n",
        "embbedings_layer = Dense(msg_total, activation = 'relu')(tx_inp)\n",
        "layer_dense = Dense(2*channel, activation = 'relu')(embbedings_layer)\n",
        "to_complex = Reshape((channel,2))(layer_dense)\n",
        "x = Lambda(lambda x: keras.backend.l2_normalize(x))(to_complex)\n",
        "xp = Lambda(perturbation)(to_complex)\n",
        "policy = Lambda(get_policy)([xp,x])"
      ],
      "execution_count": 4,
      "outputs": [
        {
          "output_type": "stream",
          "text": [
            "WARNING:tensorflow:From /usr/local/lib/python3.6/dist-packages/tensorflow/python/ops/resource_variable_ops.py:435: colocate_with (from tensorflow.python.framework.ops) is deprecated and will be removed in a future version.\n",
            "Instructions for updating:\n",
            "Colocations handled automatically by placer.\n"
          ],
          "name": "stdout"
        }
      ]
    },
    {
      "cell_type": "code",
      "metadata": {
        "id": "tdq7Oou4J1ZL",
        "colab_type": "code",
        "outputId": "4c999573-85ff-4305-bf7f-29301508dc16",
        "colab": {
          "base_uri": "https://localhost:8080/",
          "height": 408
        }
      },
      "source": [
        "model_policy = keras.models.Model(inputs=tx_inp, outputs=policy)\n",
        "model_tx = keras.models.Model(inputs=tx_inp, outputs=xp)\n",
        "model_x = keras.models.Model(inputs=tx_inp, outputs=x)\n",
        "\n",
        "model_policy.compile(loss=loss_tx, optimizer=tf.keras.optimizers.SGD(lr = 1e-5))\n",
        "print(model_policy.summary())"
      ],
      "execution_count": 5,
      "outputs": [
        {
          "output_type": "stream",
          "text": [
            "__________________________________________________________________________________________________\n",
            "Layer (type)                    Output Shape         Param #     Connected to                     \n",
            "==================================================================================================\n",
            "input_1 (InputLayer)            (None, 1)            0                                            \n",
            "__________________________________________________________________________________________________\n",
            "dense (Dense)                   (None, 4)            8           input_1[0][0]                    \n",
            "__________________________________________________________________________________________________\n",
            "dense_1 (Dense)                 (None, 8)            40          dense[0][0]                      \n",
            "__________________________________________________________________________________________________\n",
            "reshape (Reshape)               (None, 4, 2)         0           dense_1[0][0]                    \n",
            "__________________________________________________________________________________________________\n",
            "lambda_1 (Lambda)               (None, 4, 2)         0           reshape[0][0]                    \n",
            "__________________________________________________________________________________________________\n",
            "lambda (Lambda)                 (None, 4, 2)         0           reshape[0][0]                    \n",
            "__________________________________________________________________________________________________\n",
            "lambda_2 (Lambda)               ()                   0           lambda_1[0][0]                   \n",
            "                                                                 lambda[0][0]                     \n",
            "==================================================================================================\n",
            "Total params: 48\n",
            "Trainable params: 48\n",
            "Non-trainable params: 0\n",
            "__________________________________________________________________________________________________\n",
            "None\n"
          ],
          "name": "stdout"
        }
      ]
    },
    {
      "cell_type": "code",
      "metadata": {
        "id": "jPJKGpLLLqbo",
        "colab_type": "code",
        "outputId": "f892c8a9-33af-42fc-87fe-856fefc6c22e",
        "colab": {
          "base_uri": "https://localhost:8080/",
          "height": 289
        }
      },
      "source": [
        "rx_inp = Input((channel,2))\n",
        "to_flat = Reshape((2*channel,))(rx_inp)\n",
        "fc = Dense(8*2*channel, activation = 'relu')(to_flat)\n",
        "softmax = Dense(msg_total, activation = 'softmax')(fc)\n",
        "\n",
        "model_rx = keras.models.Model(inputs=rx_inp, outputs=softmax)\n",
        "\n",
        "model_rx.compile(loss=tf.keras.losses.categorical_crossentropy, optimizer=tf.keras.optimizers.Adam())\n",
        "print(model_rx.summary())"
      ],
      "execution_count": 6,
      "outputs": [
        {
          "output_type": "stream",
          "text": [
            "_________________________________________________________________\n",
            "Layer (type)                 Output Shape              Param #   \n",
            "=================================================================\n",
            "input_2 (InputLayer)         (None, 4, 2)              0         \n",
            "_________________________________________________________________\n",
            "reshape_1 (Reshape)          (None, 8)                 0         \n",
            "_________________________________________________________________\n",
            "dense_2 (Dense)              (None, 64)                576       \n",
            "_________________________________________________________________\n",
            "dense_3 (Dense)              (None, 4)                 260       \n",
            "=================================================================\n",
            "Total params: 836\n",
            "Trainable params: 836\n",
            "Non-trainable params: 0\n",
            "_________________________________________________________________\n",
            "None\n"
          ],
          "name": "stdout"
        }
      ]
    },
    {
      "cell_type": "code",
      "metadata": {
        "id": "g6h-Vx6JpksG",
        "colab_type": "code",
        "outputId": "1dd4a666-3635-4aca-d40a-c605c6aa6f34",
        "colab": {
          "base_uri": "https://localhost:8080/",
          "height": 938
        }
      },
      "source": [
        "loss_tx = []\n",
        "loss_rx = []\n",
        "for epoch in range(epochs):\n",
        "    raw_input = np.random.randint(0,msg_total,(batch_size))\n",
        "    label = np.zeros((batch_size, msg_total))\n",
        "    label[np.arange(batch_size), raw_input] = 1\n",
        "    tx_input = raw_input/float(msg_total)\n",
        "    xp = model_tx.predict(tx_input)\n",
        "    y = xp + np.random.normal(0,0.001,(batch_size, channel,2))\n",
        "    pred = model_rx.predict(y)\n",
        "    loss = np.sum(np.square(label - pred), axis = 1)\n",
        "    #   print('epoch: ', epoch)\n",
        "    history_tx = model_policy.fit(tx_input, loss, batch_size=batch_size, epochs=1, verbose=0)    \n",
        "    loss_tx.append(history_tx.history['loss'][0])\n",
        "    \n",
        "    raw_input = np.random.randint(0,msg_total,(batch_size))\n",
        "    label = np.zeros((batch_size, msg_total))\n",
        "    label[np.arange(batch_size), raw_input] = 1\n",
        "    tx_input = raw_input/float(msg_total)\n",
        "    x = model_x.predict(tx_input)\n",
        "    y = x + np.random.normal(0,0.001,(batch_size, channel,2))\n",
        "    history_rx = model_rx.fit(y, label, batch_size=batch_size, epochs=1, verbose=0)\n",
        "    loss_rx.append(history_rx.history['loss'][0])\n",
        "    \n",
        "    if(epoch % 100 == 0):\n",
        "        print('epoch: ', epoch, 'tx_loss', history_tx.history['loss'][0], 'rx_loss', history_rx.history['loss'][0])"
      ],
      "execution_count": 7,
      "outputs": [
        {
          "output_type": "stream",
          "text": [
            "WARNING:tensorflow:From /usr/local/lib/python3.6/dist-packages/tensorflow/python/ops/math_ops.py:3066: to_int32 (from tensorflow.python.ops.math_ops) is deprecated and will be removed in a future version.\n",
            "Instructions for updating:\n",
            "Use tf.cast instead.\n",
            "epoch:  0 tx_loss 49.00419616699219 rx_loss 1.3652182817459106\n",
            "epoch:  100 tx_loss 1.9868937730789185 rx_loss 1.1966124773025513\n",
            "epoch:  200 tx_loss 0.8701435327529907 rx_loss 0.981144905090332\n",
            "epoch:  300 tx_loss 0.8815153241157532 rx_loss 0.8404021263122559\n",
            "epoch:  400 tx_loss 0.6692469120025635 rx_loss 0.7669694423675537\n",
            "epoch:  500 tx_loss 0.2357269674539566 rx_loss 0.6614512205123901\n",
            "epoch:  600 tx_loss 0.6070676445960999 rx_loss 0.5855876207351685\n",
            "epoch:  700 tx_loss 0.7677830457687378 rx_loss 0.5279688835144043\n",
            "epoch:  800 tx_loss 0.4876845180988312 rx_loss 0.4745243191719055\n",
            "epoch:  900 tx_loss 0.29224133491516113 rx_loss 0.4361570179462433\n",
            "epoch:  1000 tx_loss 0.7527302503585815 rx_loss 0.4069991409778595\n",
            "epoch:  1100 tx_loss 0.8227713108062744 rx_loss 0.4055545926094055\n",
            "epoch:  1200 tx_loss 0.6096112132072449 rx_loss 0.3938697576522827\n",
            "epoch:  1300 tx_loss 0.5196916460990906 rx_loss 0.37291690707206726\n",
            "epoch:  1400 tx_loss 1.3162962198257446 rx_loss 0.367117315530777\n",
            "epoch:  1500 tx_loss 0.9482836723327637 rx_loss 0.3733426332473755\n",
            "epoch:  1600 tx_loss 0.6517524123191833 rx_loss 0.3668833076953888\n",
            "epoch:  1700 tx_loss 0.477839857339859 rx_loss 0.3533155024051666\n",
            "epoch:  1800 tx_loss 0.45333346724510193 rx_loss 0.370217502117157\n",
            "epoch:  1900 tx_loss 0.6074826121330261 rx_loss 0.36003974080085754\n",
            "epoch:  2000 tx_loss 0.27138492465019226 rx_loss 0.3615896701812744\n",
            "epoch:  2100 tx_loss 0.3894491195678711 rx_loss 0.3657838702201843\n",
            "epoch:  2200 tx_loss 0.37787380814552307 rx_loss 0.35262513160705566\n",
            "epoch:  2300 tx_loss 1.1922125816345215 rx_loss 0.367050439119339\n",
            "epoch:  2400 tx_loss 0.8055108785629272 rx_loss 0.3538881540298462\n",
            "epoch:  2500 tx_loss 0.6994979381561279 rx_loss 0.35541486740112305\n",
            "epoch:  2600 tx_loss 0.5137718915939331 rx_loss 0.35486966371536255\n",
            "epoch:  2700 tx_loss 0.7667499780654907 rx_loss 0.3592676520347595\n",
            "epoch:  2800 tx_loss 0.5925951600074768 rx_loss 0.35689643025398254\n",
            "epoch:  2900 tx_loss 1.0078619718551636 rx_loss 0.33689478039741516\n",
            "epoch:  3000 tx_loss 0.49066805839538574 rx_loss 0.34271255135536194\n",
            "epoch:  3100 tx_loss 0.6735753417015076 rx_loss 0.3566851019859314\n",
            "epoch:  3200 tx_loss 0.42472216486930847 rx_loss 0.353212833404541\n",
            "epoch:  3300 tx_loss 0.48766615986824036 rx_loss 0.34053266048431396\n",
            "epoch:  3400 tx_loss 0.9701324701309204 rx_loss 0.35106584429740906\n",
            "epoch:  3500 tx_loss 0.6034612655639648 rx_loss 0.37445348501205444\n",
            "epoch:  3600 tx_loss 0.9654124975204468 rx_loss 0.3438771665096283\n",
            "epoch:  3700 tx_loss 0.9395638108253479 rx_loss 0.3369080722332001\n",
            "epoch:  3800 tx_loss 0.9310341477394104 rx_loss 0.3499066233634949\n",
            "epoch:  3900 tx_loss 0.5076676607131958 rx_loss 0.33651286363601685\n",
            "epoch:  4000 tx_loss 1.9678516387939453 rx_loss 0.35210779309272766\n",
            "epoch:  4100 tx_loss 0.5386596918106079 rx_loss 0.34303948283195496\n",
            "epoch:  4200 tx_loss 0.9371639490127563 rx_loss 0.3490436375141144\n",
            "epoch:  4300 tx_loss 0.4477304518222809 rx_loss 0.34992215037345886\n",
            "epoch:  4400 tx_loss 0.7738296985626221 rx_loss 0.3450579345226288\n",
            "epoch:  4500 tx_loss 0.45644906163215637 rx_loss 0.35266751050949097\n",
            "epoch:  4600 tx_loss 0.6948025822639465 rx_loss 0.34336790442466736\n",
            "epoch:  4700 tx_loss 0.7149940729141235 rx_loss 0.3326863944530487\n",
            "epoch:  4800 tx_loss 0.5968514084815979 rx_loss 0.3554292917251587\n",
            "epoch:  4900 tx_loss 0.34902453422546387 rx_loss 0.3372316360473633\n"
          ],
          "name": "stdout"
        }
      ]
    },
    {
      "cell_type": "code",
      "metadata": {
        "id": "YOax3T0THnrF",
        "colab_type": "code",
        "outputId": "c834aa3a-c7e7-40b7-f0d5-9fbc97180f75",
        "colab": {
          "base_uri": "https://localhost:8080/",
          "height": 350
        }
      },
      "source": [
        "plt.figure(figsize = (12,5))\n",
        "plt.subplot(1,2,1)\n",
        "plt.plot(loss_tx)\n",
        "plt.title('Transmitter Loss')\n",
        "plt.xlabel('epochs')\n",
        "plt.ylabel('loss')\n",
        "plt.subplot(1,2,2)\n",
        "plt.plot(loss_rx)\n",
        "plt.title('Receiver Loss')\n",
        "plt.xlabel('epochs')\n",
        "plt.ylabel('loss')\n",
        "plt.show()"
      ],
      "execution_count": 8,
      "outputs": [
        {
          "output_type": "display_data",
          "data": {
            "image/png": "[encoded data removed]",
            "text/plain": [
              "<Figure size 864x360 with 2 Axes>"
            ]
          },
          "metadata": {
            "tags": []
          }
        }
      ]
    },
    {
      "cell_type": "code",
      "metadata": {
        "id": "Ob52RzJevSF2",
        "colab_type": "code",
        "outputId": "22ae75e2-ba55-48d1-b5cd-c899276e7ac2",
        "colab": {
          "base_uri": "https://localhost:8080/",
          "height": 136
        }
      },
      "source": [
        "#testing\n",
        "batch_size = 100\n",
        "raw_input = np.random.randint(0,msg_total,(batch_size))\n",
        "print(raw_input)\n",
        "label = np.zeros((batch_size, msg_total))\n",
        "label[np.arange(batch_size), raw_input] = 1\n",
        "tx_input = raw_input/float(msg_total)\n",
        "xp = model_x.predict(tx_input)\n",
        "y = xp + np.random.normal(0,0.001,(batch_size, channel,2))\n",
        "pred = model_rx.predict(y)\n",
        "pred_int = np.argmax(pred, axis = 1)\n",
        "print(pred_int)\n",
        "\n",
        "from sklearn.metrics import accuracy_score\n",
        "\n",
        "print('accuracy:',accuracy_score(raw_input, pred_int))"
      ],
      "execution_count": 17,
      "outputs": [
        {
          "output_type": "stream",
          "text": [
            "[0 2 1 1 0 2 3 3 0 2 1 3 2 0 3 0 3 0 0 3 0 3 0 1 0 0 0 0 2 0 0 2 0 0 3 1 2\n",
            " 2 2 1 0 0 1 1 2 1 3 1 1 0 1 3 3 2 3 0 0 2 1 2 1 0 0 1 3 3 1 0 2 0 3 1 3 0\n",
            " 0 2 1 3 0 0 0 2 3 1 2 1 2 0 1 1 1 0 1 3 1 0 3 0 2 0]\n",
            "[0 1 1 1 0 1 3 3 0 1 1 3 1 0 3 0 3 0 0 3 0 3 0 1 0 0 0 0 1 0 0 1 0 0 3 1 1\n",
            " 1 1 1 0 0 1 1 1 1 3 1 1 0 1 3 3 1 3 0 0 1 1 1 1 0 0 1 3 3 1 0 1 0 3 1 3 0\n",
            " 0 1 1 3 0 0 0 1 3 1 1 1 1 0 1 1 1 0 1 3 1 0 3 0 1 0]\n",
            "accuracy: 0.81\n"
          ],
          "name": "stdout"
        }
      ]
    },
    {
      "cell_type": "code",
      "metadata": {
        "id": "v0SWR8noCoc6",
        "colab_type": "code",
        "colab": {}
      },
      "source": [
        ""
      ],
      "execution_count": 0,
      "outputs": []
    }
  ]
}
{
 "cells": [
  {
   "cell_type": "markdown",
   "metadata": {
    "colab_type": "text",
    "id": "view-in-github"
   },
   "source": [
    "<a href=\"https://colab.research.google.com/github/Aithu-Snehith/End-to-End-Learning-of-Communications-Systems-Without-a-Channel-Model/blob/master/4_pam_model.ipynb\" target=\"_parent\"><img src=\"https://colab.research.google.com/assets/colab-badge.svg\" alt=\"Open In Colab\"/></a>"
   ]
  },
  {
   "cell_type": "markdown",
   "metadata": {},
   "source": [
    "### Libraries required for the implementation"
   ]
  },
  {
   "cell_type": "code",
   "execution_count": 0,
   "metadata": {
    "colab": {},
    "colab_type": "code",
    "id": "YD6Q1OO06bA2"
   },
   "outputs": [],
   "source": [
    "import numpy as np\n",
    "import tensorflow as tf\n",
    "from tensorflow import keras\n",
    "import matplotlib.pyplot as plt\n",
    "from tensorflow import keras\n",
    "from tensorflow.keras.layers import *\n",
    "from sklearn import preprocessing\n",
    "import tensorflow.keras.backend as K\n",
    "from sklearn.metrics import mean_squared_error"
   ]
  },
  {
   "cell_type": "markdown",
   "metadata": {},
   "source": [
    "### Required Parameters (4-PAM)"
   ]
  },
  {
   "cell_type": "code",
   "execution_count": 0,
   "metadata": {
    "colab": {},
    "colab_type": "code",
    "id": "Mamp_sR48wBd"
   },
   "outputs": [],
   "source": [
    "msg_total = 4\n",
    "channel = 8\n",
    "epochs = 5000\n",
    "Pert_variance = 1e-4\n",
    "batch_size = 1024"
   ]
  },
  {
   "cell_type": "markdown",
   "metadata": {},
   "source": [
    "### RL exploration \n",
    "1. Performed by adding a zero mean complex perturbation $\\textbf{w}$ to the transmitter output\n",
    "\n",
    "2. Tx_loss is \n",
    "   \n",
    "   L = -$\\sum_{i=1}^n$($l_i$ * J($w_i$,$\\theta$))"
   ]
  },
  {
   "cell_type": "code",
   "execution_count": 0,
   "metadata": {
    "colab": {},
    "colab_type": "code",
    "id": "cUhpbsruIeoE"
   },
   "outputs": [],
   "source": [
    "def perturbation(x):\n",
    "    w = K.random_normal(shape = (channel,2),mean=0.0,stddev=Pert_variance**0.5,dtype=None,seed=None)\n",
    "    xp = ((1-Pert_variance)**0.5)*x + w\n",
    "    return xp\n",
    "\n",
    "def loss_tx(y_true, y_pred):\n",
    "    return -y_true*y_pred\n",
    "\n",
    "def get_policy(inp):\n",
    "    xp = inp[0]\n",
    "    x = inp[1]\n",
    "#     w = xp - ((1-Pert_variance)**0.5)*x\n",
    "    w = xp - x\n",
    "    policy = -K.sum(w*w)\n",
    "    return policy"
   ]
  },
  {
   "cell_type": "markdown",
   "metadata": {},
   "source": [
    "## Modelling the Transmitter\n",
    "### 1. Tx encoder architecture"
   ]
  },
  {
   "cell_type": "code",
   "execution_count": 4,
   "metadata": {
    "colab": {
     "base_uri": "https://localhost:8080/",
     "height": 88
    },
    "colab_type": "code",
    "id": "62RZYX6p-Q91",
    "outputId": "af39be90-92c2-41e9-8d89-a3beba421eb6"
   },
   "outputs": [
    {
     "name": "stdout",
     "output_type": "stream",
     "text": [
      "WARNING:tensorflow:From /usr/local/lib/python3.6/dist-packages/tensorflow/python/ops/resource_variable_ops.py:435: colocate_with (from tensorflow.python.framework.ops) is deprecated and will be removed in a future version.\n",
      "Instructions for updating:\n",
      "Colocations handled automatically by placer.\n"
     ]
    }
   ],
   "source": [
    "tx_inp = Input((1,))\n",
    "embbedings_layer = Dense(msg_total, activation = 'relu')(tx_inp)\n",
    "layer_dense = Dense(2*channel, activation = 'relu')(embbedings_layer)\n",
    "to_complex = Reshape((channel,2))(layer_dense)\n",
    "x = Lambda(lambda x: keras.backend.l2_normalize(x))(to_complex)\n",
    "xp = Lambda(perturbation)(to_complex)\n",
    "policy = Lambda(get_policy)([xp,x])"
   ]
  },
  {
   "cell_type": "markdown",
   "metadata": {},
   "source": [
    "### 2. Policy layer"
   ]
  },
  {
   "cell_type": "code",
   "execution_count": 5,
   "metadata": {
    "colab": {
     "base_uri": "https://localhost:8080/",
     "height": 408
    },
    "colab_type": "code",
    "id": "tdq7Oou4J1ZL",
    "outputId": "f430ff01-6992-4707-b9bc-287c416bed7e"
   },
   "outputs": [
    {
     "name": "stdout",
     "output_type": "stream",
     "text": [
      "__________________________________________________________________________________________________\n",
      "Layer (type)                    Output Shape         Param #     Connected to                     \n",
      "==================================================================================================\n",
      "input_1 (InputLayer)            (None, 1)            0                                            \n",
      "__________________________________________________________________________________________________\n",
      "dense (Dense)                   (None, 4)            8           input_1[0][0]                    \n",
      "__________________________________________________________________________________________________\n",
      "dense_1 (Dense)                 (None, 16)           80          dense[0][0]                      \n",
      "__________________________________________________________________________________________________\n",
      "reshape (Reshape)               (None, 8, 2)         0           dense_1[0][0]                    \n",
      "__________________________________________________________________________________________________\n",
      "lambda_1 (Lambda)               (None, 8, 2)         0           reshape[0][0]                    \n",
      "__________________________________________________________________________________________________\n",
      "lambda (Lambda)                 (None, 8, 2)         0           reshape[0][0]                    \n",
      "__________________________________________________________________________________________________\n",
      "lambda_2 (Lambda)               ()                   0           lambda_1[0][0]                   \n",
      "                                                                 lambda[0][0]                     \n",
      "==================================================================================================\n",
      "Total params: 88\n",
      "Trainable params: 88\n",
      "Non-trainable params: 0\n",
      "__________________________________________________________________________________________________\n",
      "None\n"
     ]
    }
   ],
   "source": [
    "model_policy = keras.models.Model(inputs=tx_inp, outputs=policy)\n",
    "model_tx = keras.models.Model(inputs=tx_inp, outputs=xp)\n",
    "model_x = keras.models.Model(inputs=tx_inp, outputs=x)\n",
    "\n",
    "model_policy.compile(loss=loss_tx, optimizer=tf.keras.optimizers.SGD(lr = 1e-5))\n",
    "print(model_policy.summary())"
   ]
  },
  {
   "cell_type": "markdown",
   "metadata": {},
   "source": [
    "## Modelling the Receiver\n",
    "### Rx architecture"
   ]
  },
  {
   "cell_type": "code",
   "execution_count": 6,
   "metadata": {
    "colab": {
     "base_uri": "https://localhost:8080/",
     "height": 289
    },
    "colab_type": "code",
    "id": "jPJKGpLLLqbo",
    "outputId": "05309052-65dd-4ab1-8d1d-6b010cd231a4"
   },
   "outputs": [
    {
     "name": "stdout",
     "output_type": "stream",
     "text": [
      "_________________________________________________________________\n",
      "Layer (type)                 Output Shape              Param #   \n",
      "=================================================================\n",
      "input_2 (InputLayer)         (None, 8, 2)              0         \n",
      "_________________________________________________________________\n",
      "reshape_1 (Reshape)          (None, 16)                0         \n",
      "_________________________________________________________________\n",
      "dense_2 (Dense)              (None, 128)               2176      \n",
      "_________________________________________________________________\n",
      "dense_3 (Dense)              (None, 4)                 516       \n",
      "=================================================================\n",
      "Total params: 2,692\n",
      "Trainable params: 2,692\n",
      "Non-trainable params: 0\n",
      "_________________________________________________________________\n",
      "None\n"
     ]
    }
   ],
   "source": [
    "rx_inp = Input((channel,2))\n",
    "to_flat = Reshape((2*channel,))(rx_inp)\n",
    "fc = Dense(8*2*channel, activation = 'relu')(to_flat)\n",
    "softmax = Dense(msg_total, activation = 'softmax')(fc)\n",
    "\n",
    "model_rx = keras.models.Model(inputs=rx_inp, outputs=softmax)\n",
    "\n",
    "model_rx.compile(loss=tf.keras.losses.categorical_crossentropy, optimizer=tf.keras.optimizers.Adam())\n",
    "print(model_rx.summary())"
   ]
  },
  {
   "cell_type": "markdown",
   "metadata": {},
   "source": [
    "### Alternate Training"
   ]
  },
  {
   "cell_type": "code",
   "execution_count": 7,
   "metadata": {
    "colab": {
     "base_uri": "https://localhost:8080/",
     "height": 938
    },
    "colab_type": "code",
    "id": "g6h-Vx6JpksG",
    "outputId": "201d04ef-bc16-4592-8c25-751c399ba4cb"
   },
   "outputs": [
    {
     "name": "stdout",
     "output_type": "stream",
     "text": [
      "WARNING:tensorflow:From /usr/local/lib/python3.6/dist-packages/tensorflow/python/ops/math_ops.py:3066: to_int32 (from tensorflow.python.ops.math_ops) is deprecated and will be removed in a future version.\n",
      "Instructions for updating:\n",
      "Use tf.cast instead.\n",
      "epoch:  0 tx_loss 114.35173034667969 rx_loss 1.3796947002410889\n",
      "epoch:  100 tx_loss 6.021037578582764 rx_loss 1.0343232154846191\n",
      "epoch:  200 tx_loss 3.665850877761841 rx_loss 0.8181131482124329\n",
      "epoch:  300 tx_loss 1.520128846168518 rx_loss 0.7042916417121887\n",
      "epoch:  400 tx_loss 1.4927887916564941 rx_loss 0.5554989576339722\n",
      "epoch:  500 tx_loss 1.473479986190796 rx_loss 0.4429166615009308\n",
      "epoch:  600 tx_loss 0.7329232692718506 rx_loss 0.375607967376709\n",
      "epoch:  700 tx_loss 1.388350248336792 rx_loss 0.33823221921920776\n",
      "epoch:  800 tx_loss 1.3279764652252197 rx_loss 0.3101707100868225\n",
      "epoch:  900 tx_loss 1.0778858661651611 rx_loss 0.2860800325870514\n",
      "epoch:  1000 tx_loss 1.438643455505371 rx_loss 0.26754045486450195\n",
      "epoch:  1100 tx_loss 2.3404417037963867 rx_loss 0.23381781578063965\n",
      "epoch:  1200 tx_loss 1.3312132358551025 rx_loss 0.21527284383773804\n",
      "epoch:  1300 tx_loss 1.4248260259628296 rx_loss 0.19488610327243805\n",
      "epoch:  1400 tx_loss 1.0382447242736816 rx_loss 0.16341015696525574\n",
      "epoch:  1500 tx_loss 1.3557523488998413 rx_loss 0.1455385982990265\n",
      "epoch:  1600 tx_loss 2.2829983234405518 rx_loss 0.12694334983825684\n",
      "epoch:  1700 tx_loss 2.4766950607299805 rx_loss 0.10819017142057419\n",
      "epoch:  1800 tx_loss 1.146506905555725 rx_loss 0.0801992416381836\n",
      "epoch:  1900 tx_loss 2.664935827255249 rx_loss 0.07315555214881897\n",
      "epoch:  2000 tx_loss 1.6458134651184082 rx_loss 0.05360748618841171\n",
      "epoch:  2100 tx_loss 2.188070774078369 rx_loss 0.05371185764670372\n",
      "epoch:  2200 tx_loss 1.9517011642456055 rx_loss 0.04446491599082947\n",
      "epoch:  2300 tx_loss 4.250457763671875 rx_loss 0.04665788263082504\n",
      "epoch:  2400 tx_loss 2.6695938110351562 rx_loss 0.04169715940952301\n",
      "epoch:  2500 tx_loss 1.7643426656723022 rx_loss 0.035005323588848114\n",
      "epoch:  2600 tx_loss 2.1374576091766357 rx_loss 0.03542027622461319\n",
      "epoch:  2700 tx_loss 1.144116759300232 rx_loss 0.03213422745466232\n",
      "epoch:  2800 tx_loss 3.3196122646331787 rx_loss 0.027622252702713013\n",
      "epoch:  2900 tx_loss 3.393239736557007 rx_loss 0.02473902888596058\n",
      "epoch:  3000 tx_loss 1.9258756637573242 rx_loss 0.01998080685734749\n",
      "epoch:  3100 tx_loss 1.7442213296890259 rx_loss 0.022557873278856277\n",
      "epoch:  3200 tx_loss 0.9708209037780762 rx_loss 0.02007543109357357\n",
      "epoch:  3300 tx_loss 2.605186700820923 rx_loss 0.01592843048274517\n",
      "epoch:  3400 tx_loss 3.0331175327301025 rx_loss 0.017260106280446053\n",
      "epoch:  3500 tx_loss 2.038749933242798 rx_loss 0.013623886741697788\n",
      "epoch:  3600 tx_loss 3.589238405227661 rx_loss 0.013174154795706272\n",
      "epoch:  3700 tx_loss 3.232999801635742 rx_loss 0.014157405123114586\n",
      "epoch:  3800 tx_loss 3.5114808082580566 rx_loss 0.012510138563811779\n",
      "epoch:  3900 tx_loss 2.2777552604675293 rx_loss 0.01225421205163002\n",
      "epoch:  4000 tx_loss 1.2391116619110107 rx_loss 0.00964068528264761\n",
      "epoch:  4100 tx_loss 3.3996007442474365 rx_loss 0.00860733911395073\n",
      "epoch:  4200 tx_loss 3.4578404426574707 rx_loss 0.007440897636115551\n",
      "epoch:  4300 tx_loss 2.264455556869507 rx_loss 0.006812898442149162\n",
      "epoch:  4400 tx_loss 1.8350210189819336 rx_loss 0.00730531383305788\n",
      "epoch:  4500 tx_loss 1.1498150825500488 rx_loss 0.008417153730988503\n",
      "epoch:  4600 tx_loss 3.6709954738616943 rx_loss 0.006787853315472603\n",
      "epoch:  4700 tx_loss 1.7060564756393433 rx_loss 0.006307173985987902\n",
      "epoch:  4800 tx_loss 1.1874375343322754 rx_loss 0.004096090793609619\n",
      "epoch:  4900 tx_loss 3.6314749717712402 rx_loss 0.004732245579361916\n"
     ]
    }
   ],
   "source": [
    "loss_tx = []\n",
    "loss_rx = []\n",
    "for epoch in range(epochs):\n",
    "    raw_input = np.random.randint(0,msg_total,(batch_size))\n",
    "    label = np.zeros((batch_size, msg_total))\n",
    "    label[np.arange(batch_size), raw_input] = 1\n",
    "    tx_input = raw_input/float(msg_total)\n",
    "    xp = model_tx.predict(tx_input)\n",
    "    y = xp + np.random.normal(0,0.001,(batch_size, channel,2))\n",
    "    pred = model_rx.predict(y)\n",
    "    loss = np.sum(np.square(label - pred), axis = 1)\n",
    "    #   print('epoch: ', epoch)\n",
    "    history_tx = model_policy.fit(tx_input, loss, batch_size=batch_size, epochs=1, verbose=0)    \n",
    "    loss_tx.append(history_tx.history['loss'][0])\n",
    "    \n",
    "    raw_input = np.random.randint(0,msg_total,(batch_size))\n",
    "    label = np.zeros((batch_size, msg_total))\n",
    "    label[np.arange(batch_size), raw_input] = 1\n",
    "    tx_input = raw_input/float(msg_total)\n",
    "    x = model_x.predict(tx_input)\n",
    "    y = x + np.random.normal(0,0.001,(batch_size, channel,2))\n",
    "    history_rx = model_rx.fit(y, label, batch_size=batch_size, epochs=1, verbose=0)\n",
    "    loss_rx.append(history_rx.history['loss'][0])\n",
    "    \n",
    "    if(epoch % 100 == 0):\n",
    "        print('epoch: ', epoch, 'tx_loss', history_tx.history['loss'][0], 'rx_loss', history_rx.history['loss'][0])"
   ]
  },
  {
   "cell_type": "code",
   "execution_count": 8,
   "metadata": {
    "colab": {
     "base_uri": "https://localhost:8080/",
     "height": 350
    },
    "colab_type": "code",
    "id": "YOax3T0THnrF",
    "outputId": "8d59d150-962f-44f4-a56c-d22acd9a270d"
   },
   "outputs": [
    {
     "data": {
      "image/png": "[encoded data removed]",
      "text/plain": [
       "<Figure size 864x360 with 2 Axes>"
      ]
     },
     "metadata": {
      "tags": []
     },
     "output_type": "display_data"
    }
   ],
   "source": [
    "plt.figure(figsize = (12,5))\n",
    "plt.subplot(1,2,1)\n",
    "plt.plot(loss_tx)\n",
    "plt.title('Transmitter Loss')\n",
    "plt.xlabel('epochs')\n",
    "plt.ylabel('loss')\n",
    "plt.subplot(1,2,2)\n",
    "plt.plot(loss_rx)\n",
    "plt.title('Receiver Loss')\n",
    "plt.xlabel('epochs')\n",
    "plt.ylabel('loss')\n",
    "plt.show()"
   ]
  },
  {
   "cell_type": "markdown",
   "metadata": {},
   "source": [
    "### Prediction"
   ]
  },
  {
   "cell_type": "code",
   "execution_count": 9,
   "metadata": {
    "colab": {
     "base_uri": "https://localhost:8080/",
     "height": 136
    },
    "colab_type": "code",
    "id": "Ob52RzJevSF2",
    "outputId": "ed984937-d9c4-4487-cc52-943b047f1948"
   },
   "outputs": [
    {
     "name": "stdout",
     "output_type": "stream",
     "text": [
      "[2 0 2 0 0 3 2 1 3 0 0 2 2 3 1 2 3 1 1 3 0 0 3 3 0 3 3 3 3 0 2 1 2 3 2 1 3\n",
      " 2 0 0 0 2 2 2 0 0 3 3 0 2 3 2 1 2 3 1 0 3 1 0 1 2 0 2 3 1 3 3 0 2 2 1 1 1\n",
      " 0 0 0 0 3 0 0 1 2 2 3 0 1 1 3 0 2 3 1 1 1 0 0 3 0 2]\n",
      "[2 0 2 0 0 3 2 1 3 0 0 2 2 3 1 2 3 1 1 3 0 0 3 3 0 3 3 3 3 0 2 1 2 3 2 1 3\n",
      " 2 0 0 0 2 2 2 0 0 3 3 0 2 3 2 1 2 3 1 0 3 1 0 1 2 0 2 3 1 3 3 0 2 2 1 1 1\n",
      " 0 0 0 0 3 0 0 1 2 2 3 0 1 1 3 0 2 3 1 1 1 0 0 3 0 2]\n",
      "accuracy: 1.0\n"
     ]
    }
   ],
   "source": [
    "#testing\n",
    "batch_size = 100\n",
    "raw_input = np.random.randint(0,msg_total,(batch_size))\n",
    "print(raw_input)\n",
    "label = np.zeros((batch_size, msg_total))\n",
    "label[np.arange(batch_size), raw_input] = 1\n",
    "tx_input = raw_input/float(msg_total)\n",
    "xp = model_x.predict(tx_input)\n",
    "y = xp + np.random.normal(0,0.001,(batch_size, channel,2))\n",
    "pred = model_rx.predict(y)\n",
    "pred_int = np.argmax(pred, axis = 1)\n",
    "print(pred_int)\n",
    "\n",
    "from sklearn.metrics import accuracy_score\n",
    "\n",
    "print('accuracy:',accuracy_score(raw_input, pred_int))"
   ]
  },
  {
   "cell_type": "code",
   "execution_count": 0,
   "metadata": {
    "colab": {},
    "colab_type": "code",
    "id": "v0SWR8noCoc6"
   },
   "outputs": [],
   "source": []
  }
 ],
 "metadata": {
  "accelerator": "GPU",
  "colab": {
   "collapsed_sections": [],
   "include_colab_link": true,
   "name": "4_pam_model.ipynb",
   "provenance": [],
   "version": "0.3.2"
  },
  "kernelspec": {
   "display_name": "Python 3",
   "language": "python",
   "name": "python3"
  },
  "language_info": {
   "codemirror_mode": {
    "name": "ipython",
    "version": 3
   },
   "file_extension": ".py",
   "mimetype": "text/x-python",
   "name": "python",
   "nbconvert_exporter": "python",
   "pygments_lexer": "ipython3",
   "version": "3.6.6"
  }
 },
 "nbformat": 4,
 "nbformat_minor": 1
}
